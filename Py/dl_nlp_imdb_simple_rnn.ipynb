{
 "cells": [
  {
   "cell_type": "markdown",
   "metadata": {
    "colab_type": "text",
    "id": "Lv1nORvnYVQn"
   },
   "source": [
    "## Определение тональности текста отзывов на фильмы IMDB с помощью рекуррентной нейронной сети\n",
    "\n",
    "Учебный курс \"[Нейросети для анализа текстов](https://www.asozykin.ru/courses/nnpython)\".\n",
    "\n",
    "Чтобы запускать и редактировать код, сохраните копию этого ноутбука себе (File->Save a copy in Drive...). Свою копию вы сможете изменять и запускать.\n",
    "\n",
    "Не забудьте подключить GPU, чтобы сеть обучалась быстрее (Runtime -> Change Runtime Type -> Hardware Accelerator -> GPU)."
   ]
  },
  {
   "cell_type": "code",
   "execution_count": 2,
   "metadata": {
    "colab": {
     "base_uri": "https://localhost:8080/",
     "height": 34
    },
    "colab_type": "code",
    "id": "lpsyhVlJX5XH",
    "outputId": "c2e247c2-15e7-494f-c013-0ba623b5059d"
   },
   "outputs": [],
   "source": [
    "#%tensorflow_version 2.x\n",
    "from tensorflow.keras.datasets import imdb\n",
    "from tensorflow.keras.models import Sequential\n",
    "from tensorflow.keras.layers import Dense, Embedding, SimpleRNN \n",
    "from tensorflow.keras import utils\n",
    "from tensorflow.keras.preprocessing.sequence import pad_sequences\n",
    "import numpy as np\n",
    "import matplotlib.pyplot as plt\n",
    "%matplotlib inline "
   ]
  },
  {
   "cell_type": "markdown",
   "metadata": {
    "colab_type": "text",
    "id": "xGDJkdINNWVh"
   },
   "source": [
    "## Загружаем данные"
   ]
  },
  {
   "cell_type": "code",
   "execution_count": 3,
   "metadata": {
    "colab": {},
    "colab_type": "code",
    "id": "kBUUyZ4cbxoM"
   },
   "outputs": [],
   "source": [
    "max_words=10000"
   ]
  },
  {
   "cell_type": "code",
   "execution_count": 4,
   "metadata": {
    "colab": {
     "base_uri": "https://localhost:8080/",
     "height": 51
    },
    "colab_type": "code",
    "id": "toRj2Xs1NZgB",
    "outputId": "4a90fb96-bf95-43b9-921b-d6c141c9d2fb"
   },
   "outputs": [],
   "source": [
    "(x_train, y_train), (x_test, y_test) = imdb.load_data(num_words=max_words)"
   ]
  },
  {
   "cell_type": "markdown",
   "metadata": {
    "colab_type": "text",
    "id": "kiA7X0oWaS9Z"
   },
   "source": [
    "## Подготовка данных для обучения"
   ]
  },
  {
   "cell_type": "code",
   "execution_count": 5,
   "metadata": {
    "colab": {},
    "colab_type": "code",
    "id": "PiZZxRZhMVWv"
   },
   "outputs": [],
   "source": [
    "maxlen = 200"
   ]
  },
  {
   "cell_type": "code",
   "execution_count": 6,
   "metadata": {
    "colab": {},
    "colab_type": "code",
    "id": "0YrjnapvMVwf"
   },
   "outputs": [],
   "source": [
    "x_train = pad_sequences(x_train, maxlen=maxlen)\n",
    "x_test = pad_sequences(x_test, maxlen=maxlen)"
   ]
  },
  {
   "cell_type": "code",
   "execution_count": 7,
   "metadata": {
    "colab": {
     "base_uri": "https://localhost:8080/",
     "height": 343
    },
    "colab_type": "code",
    "id": "SnANlxwYMcNX",
    "outputId": "266cf8ee-05f4-4cd1-b0ff-0248f5e3abeb"
   },
   "outputs": [
    {
     "data": {
      "text/plain": [
       "array([   0,    0,    0,    0,    0,    0,    0,    0,    0,    0,    0,\n",
       "          0,    0,    0,    0,    0,    0,    0,    0,    0,    0,    0,\n",
       "          0,    0,    0,    0,    0,    0,    0,    0,    0,    0,    0,\n",
       "          0,    0,    0,    0,    0,    0,    0,    0,    0,    0,    0,\n",
       "          0,    0,    0,    0,    0,    0,    0,    0,    0,    0,    0,\n",
       "          0,    0,    0,    0,    0,    0,    0,    0,    0,    0,    0,\n",
       "          0,    0,    0,    1,  103,   51,   13,  197,   16,    6, 4796,\n",
       "        239,    7,  107,  555,   11,  132,   39, 8921, 1872,  138,   16,\n",
       "       4093, 1768, 2959,   34, 1620,    2,   11,    4,  755,   12,   43,\n",
       "        286,    4,  172,  209,    2,    5, 5938,   17, 1000,   34, 1768,\n",
       "        279,   29, 3892,   89,  338,    4,  114,   16, 1240, 1747,  103,\n",
       "       3844, 3819,    8,  169, 2875,  112, 7062,   34,  160,  132,   29,\n",
       "        100,   24,  535,  101,  250,    8,  858,   15,  196,   19,   57,\n",
       "       3154,   39,   90,    5,   24,  169, 3533,   18,    6,  910,   20,\n",
       "         14, 1367, 3939, 1101,  935,    4,  545, 1744,  173,   54, 1240,\n",
       "       2875,    2,   56,  209,  112, 1021,   55,  835,  179,   35, 2384,\n",
       "          8,  529, 1663, 1793,    8, 1066,    7,   61,  223,  637, 1231,\n",
       "         19,    4,   86,   31,    5,  353,    8,  859,   13,  126,  219,\n",
       "          4,  755])"
      ]
     },
     "execution_count": 7,
     "metadata": {},
     "output_type": "execute_result"
    }
   ],
   "source": [
    "x_train[5002]"
   ]
  },
  {
   "cell_type": "markdown",
   "metadata": {
    "colab_type": "text",
    "id": "rhSLT9WjTeMk"
   },
   "source": [
    "## Создание нейронной сети"
   ]
  },
  {
   "cell_type": "code",
   "execution_count": 8,
   "metadata": {
    "colab": {},
    "colab_type": "code",
    "id": "Lrzx1e4xTgzL"
   },
   "outputs": [],
   "source": [
    "model = Sequential()\n",
    "model.add(Embedding(max_words, 2, input_length=maxlen))\n",
    "model.add(SimpleRNN(8))\n",
    "model.add(Dense(1, activation='sigmoid'))"
   ]
  },
  {
   "cell_type": "code",
   "execution_count": 9,
   "metadata": {
    "colab": {},
    "colab_type": "code",
    "id": "u1yNam-uSunE"
   },
   "outputs": [],
   "source": [
    "model.compile(optimizer='rmsprop', \n",
    "              loss='binary_crossentropy', \n",
    "              metrics=['accuracy'])"
   ]
  },
  {
   "cell_type": "markdown",
   "metadata": {
    "colab_type": "text",
    "id": "9CHZwMttYMTb"
   },
   "source": [
    "## Обучаем нейронную сеть"
   ]
  },
  {
   "cell_type": "code",
   "execution_count": 10,
   "metadata": {
    "colab": {
     "base_uri": "https://localhost:8080/",
     "height": 568
    },
    "colab_type": "code",
    "id": "AkmNH7ahYLyc",
    "outputId": "361be8dd-939a-4297-f703-26f38d1ee569"
   },
   "outputs": [
    {
     "name": "stdout",
     "output_type": "stream",
     "text": [
      "Epoch 1/15\n",
      "176/176 [==============================] - 5s 27ms/step - loss: 0.6919 - accuracy: 0.5246 - val_loss: 0.6895 - val_accuracy: 0.5512\n",
      "Epoch 2/15\n",
      "176/176 [==============================] - 4s 25ms/step - loss: 0.6798 - accuracy: 0.5809 - val_loss: 0.6845 - val_accuracy: 0.5500\n",
      "Epoch 3/15\n",
      "176/176 [==============================] - 4s 25ms/step - loss: 0.6465 - accuracy: 0.6599 - val_loss: 0.6415 - val_accuracy: 0.6656\n",
      "Epoch 4/15\n",
      "176/176 [==============================] - 4s 25ms/step - loss: 0.5524 - accuracy: 0.7799 - val_loss: 0.5288 - val_accuracy: 0.7848\n",
      "Epoch 5/15\n",
      "176/176 [==============================] - 5s 26ms/step - loss: 0.4376 - accuracy: 0.8426 - val_loss: 0.4497 - val_accuracy: 0.8132\n",
      "Epoch 6/15\n",
      "176/176 [==============================] - 4s 25ms/step - loss: 0.3555 - accuracy: 0.8686 - val_loss: 0.3951 - val_accuracy: 0.8424\n",
      "Epoch 7/15\n",
      "176/176 [==============================] - 5s 26ms/step - loss: 0.2995 - accuracy: 0.8892 - val_loss: 0.3749 - val_accuracy: 0.8448\n",
      "Epoch 8/15\n",
      "176/176 [==============================] - 5s 29ms/step - loss: 0.2629 - accuracy: 0.9047 - val_loss: 0.3659 - val_accuracy: 0.8468\n",
      "Epoch 9/15\n",
      "176/176 [==============================] - 5s 29ms/step - loss: 0.2343 - accuracy: 0.9143 - val_loss: 0.3583 - val_accuracy: 0.8540\n",
      "Epoch 10/15\n",
      "176/176 [==============================] - 5s 29ms/step - loss: 0.2108 - accuracy: 0.9231 - val_loss: 0.3750 - val_accuracy: 0.8440\n",
      "Epoch 11/15\n",
      "176/176 [==============================] - 5s 29ms/step - loss: 0.1919 - accuracy: 0.9313 - val_loss: 0.3925 - val_accuracy: 0.8372\n",
      "Epoch 12/15\n",
      "176/176 [==============================] - 5s 29ms/step - loss: 0.1728 - accuracy: 0.9390 - val_loss: 0.3614 - val_accuracy: 0.8564\n",
      "Epoch 13/15\n",
      "176/176 [==============================] - 5s 29ms/step - loss: 0.1595 - accuracy: 0.9448 - val_loss: 0.4338 - val_accuracy: 0.8348\n",
      "Epoch 14/15\n",
      "176/176 [==============================] - 5s 29ms/step - loss: 0.1482 - accuracy: 0.9480 - val_loss: 0.3995 - val_accuracy: 0.8500\n",
      "Epoch 15/15\n",
      "176/176 [==============================] - 5s 29ms/step - loss: 0.1351 - accuracy: 0.9549 - val_loss: 0.4071 - val_accuracy: 0.8428\n"
     ]
    }
   ],
   "source": [
    "history = model.fit(x_train, \n",
    "                    y_train, \n",
    "                    epochs=15,\n",
    "                    batch_size=128,\n",
    "                    validation_split=0.1)"
   ]
  },
  {
   "cell_type": "code",
   "execution_count": 12,
   "metadata": {
    "colab": {
     "base_uri": "https://localhost:8080/",
     "height": 279
    },
    "colab_type": "code",
    "id": "a19UCeAMDhQK",
    "outputId": "369ecd26-2163-45c2-b6df-ba0bd8068989"
   },
   "outputs": [
    {
     "data": {
      "image/png": "[encoded data removed]",
      "text/plain": [
       "<Figure size 432x288 with 1 Axes>"
      ]
     },
     "metadata": {
      "needs_background": "light"
     },
     "output_type": "display_data"
    }
   ],
   "source": [
    "plt.plot(history.history['accuracy'], \n",
    "         label='Доля верных ответов на обучающем наборе')\n",
    "plt.plot(history.history['val_accuracy'], \n",
    "         label='Доля верных ответов на проверочном наборе')\n",
    "plt.xlabel('Эпоха обучения')\n",
    "plt.ylabel('Доля верных ответов')\n",
    "plt.legend()\n",
    "plt.show()"
   ]
  },
  {
   "cell_type": "markdown",
   "metadata": {
    "colab_type": "text",
    "id": "HnnIy3JlEGqW"
   },
   "source": [
    "## Проверяем работу сети на тестовом наборе данных"
   ]
  },
  {
   "cell_type": "code",
   "execution_count": 13,
   "metadata": {
    "colab": {
     "base_uri": "https://localhost:8080/",
     "height": 34
    },
    "colab_type": "code",
    "id": "J1_ilV14EKBO",
    "outputId": "45f52f38-1494-411c-98ce-23dda5b728ba"
   },
   "outputs": [
    {
     "name": "stdout",
     "output_type": "stream",
     "text": [
      "782/782 [==============================] - 4s 6ms/step - loss: 0.4103 - accuracy: 0.8462\n"
     ]
    }
   ],
   "source": [
    "scores = model.evaluate(x_test, y_test, verbose=1)"
   ]
  },
  {
   "cell_type": "markdown",
   "metadata": {
    "colab_type": "text",
    "id": "O5Lfr6PlbChk"
   },
   "source": [
    "## Архитектуры нейронных сетей для анализа текстов\n",
    "\n",
    "1. [Определение тональности отзывов на фильмы из базы IMDB с помощью простых рекуррентных нейросетей](https://colab.research.google.com/drive/19RAxAnIV0fDXAcE1T23TPkzi4ZPFQXdB).\n",
    "2. [Определение тональности отзывов на фильмы из базы IMDB с помощью сетей LSTM](https://colab.research.google.com/drive/1FQjetRIkWYxmm87JKUbVSJrRS2vNLPpV).\n",
    "3. [Определение тональности отзывов на фильмы из базы IMDB с помощью сетей GRU](https://colab.research.google.com/drive/1IGJPwFkTdpbyagQ5jiIRJBA01xlfc18t)."
   ]
  }
 ],
 "metadata": {
  "accelerator": "GPU",
  "colab": {
   "name": "dl_nlp_imdb_simple_rnn.ipynb",
   "provenance": []
  },
  "kernelspec": {
   "display_name": "Python 3",
   "language": "python",
   "name": "python3"
  },
  "language_info": {
   "codemirror_mode": {
    "name": "ipython",
    "version": 3
   },
   "file_extension": ".py",
   "mimetype": "text/x-python",
   "name": "python",
   "nbconvert_exporter": "python",
   "pygments_lexer": "ipython3",
   "version": "3.7.3"
  }
 },
 "nbformat": 4,
 "nbformat_minor": 1
}
