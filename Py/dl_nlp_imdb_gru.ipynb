{
 "cells": [
  {
   "cell_type": "markdown",
   "metadata": {
    "colab_type": "text",
    "id": "Lv1nORvnYVQn"
   },
   "source": [
    "## Определение тональности текста отзывов на фильмы IMDB с помощью сети GRU\n",
    "\n",
    "Учебный курс \"[Нейросети для анализа текстов](https://www.asozykin.ru/courses/nnpython)\".\n",
    "\n",
    "Чтобы запускать и редактировать код, сохраните копию этого ноутбука себе (File->Save a copy in Drive...). Свою копию вы сможете изменять и запускать.\n",
    "\n",
    "Не забудьте подключить GPU, чтобы сеть обучалась быстрее (Runtime -> Change Runtime Type -> Hardware Accelerator -> GPU)."
   ]
  },
  {
   "cell_type": "code",
   "execution_count": 1,
   "metadata": {
    "colab": {},
    "colab_type": "code",
    "id": "lpsyhVlJX5XH"
   },
   "outputs": [],
   "source": [
    "#%tensorflow_version 2.x\n",
    "from tensorflow.keras.datasets import imdb\n",
    "from tensorflow.keras.models import Sequential\n",
    "from tensorflow.keras.layers import Dense, Embedding, GRU \n",
    "from tensorflow.keras import utils\n",
    "from tensorflow.keras.preprocessing.sequence import pad_sequences\n",
    "import numpy as np\n",
    "import matplotlib.pyplot as plt\n",
    "%matplotlib inline "
   ]
  },
  {
   "cell_type": "markdown",
   "metadata": {
    "colab_type": "text",
    "id": "xGDJkdINNWVh"
   },
   "source": [
    "## Загружаем данные"
   ]
  },
  {
   "cell_type": "code",
   "execution_count": 2,
   "metadata": {
    "colab": {},
    "colab_type": "code",
    "id": "kBUUyZ4cbxoM"
   },
   "outputs": [],
   "source": [
    "max_words=10000"
   ]
  },
  {
   "cell_type": "code",
   "execution_count": 3,
   "metadata": {
    "colab": {},
    "colab_type": "code",
    "id": "toRj2Xs1NZgB"
   },
   "outputs": [],
   "source": [
    "(x_train, y_train), (x_test, y_test) = imdb.load_data(num_words=max_words)"
   ]
  },
  {
   "cell_type": "markdown",
   "metadata": {
    "colab_type": "text",
    "id": "kiA7X0oWaS9Z"
   },
   "source": [
    "## Подготовка данных для обучения"
   ]
  },
  {
   "cell_type": "code",
   "execution_count": 4,
   "metadata": {
    "colab": {},
    "colab_type": "code",
    "id": "PiZZxRZhMVWv"
   },
   "outputs": [],
   "source": [
    "maxlen = 200"
   ]
  },
  {
   "cell_type": "code",
   "execution_count": 5,
   "metadata": {
    "colab": {},
    "colab_type": "code",
    "id": "0YrjnapvMVwf"
   },
   "outputs": [],
   "source": [
    "x_train = pad_sequences(x_train, maxlen=maxlen)\n",
    "x_test = pad_sequences(x_test, maxlen=maxlen)"
   ]
  },
  {
   "cell_type": "code",
   "execution_count": 6,
   "metadata": {
    "colab": {
     "base_uri": "https://localhost:8080/",
     "height": 343
    },
    "colab_type": "code",
    "id": "SnANlxwYMcNX",
    "outputId": "fc1f931f-1fef-41bb-f0c5-da2b02d9524d"
   },
   "outputs": [
    {
     "data": {
      "text/plain": [
       "array([   0,    0,    0,    0,    0,    0,    0,    0,    0,    0,    0,\n",
       "          0,    0,    0,    0,    0,    0,    0,    0,    0,    0,    0,\n",
       "          0,    0,    0,    0,    0,    0,    0,    0,    0,    0,    0,\n",
       "          0,    0,    0,    0,    0,    0,    0,    0,    0,    0,    0,\n",
       "          0,    0,    0,    0,    0,    0,    0,    0,    0,    0,    0,\n",
       "          0,    0,    0,    0,    0,    0,    0,    0,    0,    0,    0,\n",
       "          0,    0,    0,    1,  103,   51,   13,  197,   16,    6, 4796,\n",
       "        239,    7,  107,  555,   11,  132,   39, 8921, 1872,  138,   16,\n",
       "       4093, 1768, 2959,   34, 1620,    2,   11,    4,  755,   12,   43,\n",
       "        286,    4,  172,  209,    2,    5, 5938,   17, 1000,   34, 1768,\n",
       "        279,   29, 3892,   89,  338,    4,  114,   16, 1240, 1747,  103,\n",
       "       3844, 3819,    8,  169, 2875,  112, 7062,   34,  160,  132,   29,\n",
       "        100,   24,  535,  101,  250,    8,  858,   15,  196,   19,   57,\n",
       "       3154,   39,   90,    5,   24,  169, 3533,   18,    6,  910,   20,\n",
       "         14, 1367, 3939, 1101,  935,    4,  545, 1744,  173,   54, 1240,\n",
       "       2875,    2,   56,  209,  112, 1021,   55,  835,  179,   35, 2384,\n",
       "          8,  529, 1663, 1793,    8, 1066,    7,   61,  223,  637, 1231,\n",
       "         19,    4,   86,   31,    5,  353,    8,  859,   13,  126,  219,\n",
       "          4,  755])"
      ]
     },
     "execution_count": 6,
     "metadata": {},
     "output_type": "execute_result"
    }
   ],
   "source": [
    "x_train[5002]"
   ]
  },
  {
   "cell_type": "markdown",
   "metadata": {
    "colab_type": "text",
    "id": "rhSLT9WjTeMk"
   },
   "source": [
    "## Создание нейронной сети"
   ]
  },
  {
   "cell_type": "code",
   "execution_count": 7,
   "metadata": {
    "colab": {},
    "colab_type": "code",
    "id": "Lrzx1e4xTgzL"
   },
   "outputs": [],
   "source": [
    "model = Sequential()\n",
    "model.add(Embedding(max_words, 8, input_length=maxlen))\n",
    "model.add(GRU(32))\n",
    "model.add(Dense(1, activation='sigmoid'))"
   ]
  },
  {
   "cell_type": "code",
   "execution_count": 8,
   "metadata": {
    "colab": {},
    "colab_type": "code",
    "id": "u1yNam-uSunE"
   },
   "outputs": [],
   "source": [
    "model.compile(optimizer='adam', \n",
    "              loss='binary_crossentropy', \n",
    "              metrics=['accuracy'])"
   ]
  },
  {
   "cell_type": "markdown",
   "metadata": {
    "colab_type": "text",
    "id": "9CHZwMttYMTb"
   },
   "source": [
    "## Обучаем нейронную сеть"
   ]
  },
  {
   "cell_type": "code",
   "execution_count": 9,
   "metadata": {
    "colab": {
     "base_uri": "https://localhost:8080/",
     "height": 740
    },
    "colab_type": "code",
    "id": "AkmNH7ahYLyc",
    "outputId": "6c3aa43b-b05f-4d57-bc51-9e9978dbeb54"
   },
   "outputs": [
    {
     "name": "stdout",
     "output_type": "stream",
     "text": [
      "Epoch 1/20\n",
      "176/176 [==============================] - 13s 71ms/step - loss: 0.5394 - accuracy: 0.6936 - val_loss: 0.3344 - val_accuracy: 0.8628\n",
      "Epoch 2/20\n",
      "176/176 [==============================] - 13s 74ms/step - loss: 0.2705 - accuracy: 0.8938 - val_loss: 0.3011 - val_accuracy: 0.8776\n",
      "Epoch 3/20\n",
      "176/176 [==============================] - 14s 78ms/step - loss: 0.1973 - accuracy: 0.9263 - val_loss: 0.3243 - val_accuracy: 0.8684\n",
      "Epoch 4/20\n",
      "176/176 [==============================] - 14s 78ms/step - loss: 0.1692 - accuracy: 0.9386 - val_loss: 0.3358 - val_accuracy: 0.8732\n",
      "Epoch 5/20\n",
      "176/176 [==============================] - 14s 78ms/step - loss: 0.1339 - accuracy: 0.9540 - val_loss: 0.3444 - val_accuracy: 0.8560\n",
      "Epoch 6/20\n",
      "176/176 [==============================] - 14s 77ms/step - loss: 0.1203 - accuracy: 0.9599 - val_loss: 0.3652 - val_accuracy: 0.8600\n",
      "Epoch 7/20\n",
      "176/176 [==============================] - 14s 78ms/step - loss: 0.0984 - accuracy: 0.9682 - val_loss: 0.3830 - val_accuracy: 0.8648\n",
      "Epoch 8/20\n",
      "176/176 [==============================] - 14s 77ms/step - loss: 0.0884 - accuracy: 0.9719 - val_loss: 0.4297 - val_accuracy: 0.8640\n",
      "Epoch 9/20\n",
      "176/176 [==============================] - 14s 78ms/step - loss: 0.0704 - accuracy: 0.9795 - val_loss: 0.4887 - val_accuracy: 0.8640\n",
      "Epoch 10/20\n",
      "176/176 [==============================] - 15s 86ms/step - loss: 0.0580 - accuracy: 0.9838 - val_loss: 0.5607 - val_accuracy: 0.8620\n",
      "Epoch 11/20\n",
      "176/176 [==============================] - 14s 77ms/step - loss: 0.0563 - accuracy: 0.9835 - val_loss: 0.5848 - val_accuracy: 0.8616\n",
      "Epoch 12/20\n",
      "176/176 [==============================] - 15s 83ms/step - loss: 0.0534 - accuracy: 0.9839 - val_loss: 0.5422 - val_accuracy: 0.8580\n",
      "Epoch 13/20\n",
      "176/176 [==============================] - 14s 77ms/step - loss: 0.0451 - accuracy: 0.9868 - val_loss: 0.5749 - val_accuracy: 0.8548\n",
      "Epoch 14/20\n",
      "176/176 [==============================] - 13s 77ms/step - loss: 0.0356 - accuracy: 0.9898 - val_loss: 0.6436 - val_accuracy: 0.8572\n",
      "Epoch 15/20\n",
      "176/176 [==============================] - 14s 77ms/step - loss: 0.0478 - accuracy: 0.9842 - val_loss: 0.6850 - val_accuracy: 0.8576\n",
      "Epoch 16/20\n",
      "176/176 [==============================] - 14s 81ms/step - loss: 0.0393 - accuracy: 0.9880 - val_loss: 0.7345 - val_accuracy: 0.8540\n",
      "Epoch 17/20\n",
      "176/176 [==============================] - 14s 79ms/step - loss: 0.0271 - accuracy: 0.9928 - val_loss: 0.6873 - val_accuracy: 0.8504\n",
      "Epoch 18/20\n",
      "176/176 [==============================] - 14s 79ms/step - loss: 0.0231 - accuracy: 0.9941 - val_loss: 0.7179 - val_accuracy: 0.8512\n",
      "Epoch 19/20\n",
      "176/176 [==============================] - 14s 77ms/step - loss: 0.0227 - accuracy: 0.9939 - val_loss: 0.8739 - val_accuracy: 0.8552\n",
      "Epoch 20/20\n",
      "176/176 [==============================] - 14s 77ms/step - loss: 0.0217 - accuracy: 0.9941 - val_loss: 0.8621 - val_accuracy: 0.8552\n"
     ]
    }
   ],
   "source": [
    "history = model.fit(x_train, \n",
    "                    y_train, \n",
    "                    epochs=20,\n",
    "                    batch_size=128,\n",
    "                    validation_split=0.1)"
   ]
  },
  {
   "cell_type": "code",
   "execution_count": 10,
   "metadata": {
    "colab": {
     "base_uri": "https://localhost:8080/",
     "height": 279
    },
    "colab_type": "code",
    "id": "a19UCeAMDhQK",
    "outputId": "54c17ddc-21ac-4dd8-b737-5e2e00deba95"
   },
   "outputs": [
    {
     "data": {
      "image/png": "[encoded data removed]",
      "text/plain": [
       "<Figure size 432x288 with 1 Axes>"
      ]
     },
     "metadata": {
      "needs_background": "light"
     },
     "output_type": "display_data"
    }
   ],
   "source": [
    "plt.plot(history.history['accuracy'], \n",
    "         label='Доля верных ответов на обучающем наборе')\n",
    "plt.plot(history.history['val_accuracy'], \n",
    "         label='Доля верных ответов на проверочном наборе')\n",
    "plt.xlabel('Эпоха обучения')\n",
    "plt.ylabel('Доля верных ответов')\n",
    "plt.legend()\n",
    "plt.show()"
   ]
  },
  {
   "cell_type": "markdown",
   "metadata": {
    "colab_type": "text",
    "id": "HnnIy3JlEGqW"
   },
   "source": [
    "## Проверяем работу сети на тестовом наборе данных"
   ]
  },
  {
   "cell_type": "code",
   "execution_count": 11,
   "metadata": {
    "colab": {
     "base_uri": "https://localhost:8080/",
     "height": 34
    },
    "colab_type": "code",
    "id": "J1_ilV14EKBO",
    "outputId": "6ad285f2-164c-4bca-8b13-4dc7d83e190b"
   },
   "outputs": [
    {
     "name": "stdout",
     "output_type": "stream",
     "text": [
      "782/782 [==============================] - 7s 9ms/step - loss: 0.9399 - accuracy: 0.8338\n"
     ]
    }
   ],
   "source": [
    "scores = model.evaluate(x_test, y_test, verbose=1)"
   ]
  },
  {
   "cell_type": "markdown",
   "metadata": {
    "colab_type": "text",
    "id": "OdzGTAjoaUBo"
   },
   "source": [
    "## Архитектуры нейронных сетей для анализа текстов\n",
    "\n",
    "1. [Определение тональности отзывов на фильмы из базы IMDB с помощью простых рекуррентных нейросетей](https://colab.research.google.com/drive/19RAxAnIV0fDXAcE1T23TPkzi4ZPFQXdB).\n",
    "2. [Определение тональности отзывов на фильмы из базы IMDB с помощью сетей LSTM](https://colab.research.google.com/drive/1FQjetRIkWYxmm87JKUbVSJrRS2vNLPpV).\n",
    "3. [Определение тональности отзывов на фильмы из базы IMDB с помощью сетей GRU](https://colab.research.google.com/drive/1IGJPwFkTdpbyagQ5jiIRJBA01xlfc18t)."
   ]
  }
 ],
 "metadata": {
  "accelerator": "GPU",
  "colab": {
   "name": "dl_nlp_imdb_gru.ipynb",
   "provenance": []
  },
  "kernelspec": {
   "display_name": "Python 3",
   "language": "python",
   "name": "python3"
  },
  "language_info": {
   "codemirror_mode": {
    "name": "ipython",
    "version": 3
   },
   "file_extension": ".py",
   "mimetype": "text/x-python",
   "name": "python",
   "nbconvert_exporter": "python",
   "pygments_lexer": "ipython3",
   "version": "3.7.3"
  }
 },
 "nbformat": 4,
 "nbformat_minor": 1
}
