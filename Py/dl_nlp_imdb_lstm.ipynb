{
 "cells": [
  {
   "cell_type": "markdown",
   "metadata": {
    "colab_type": "text",
    "id": "Lv1nORvnYVQn"
   },
   "source": [
    "## Определение тональности текста отзывов на фильмы IMDB с помощью сети LSTM\n",
    "\n",
    "Учебный курс \"[Нейросети для анализа текстов](https://www.asozykin.ru/courses/nnpython)\".\n",
    "\n",
    "Чтобы запускать и редактировать код, сохраните копию этого ноутбука себе (File->Save a copy in Drive...). Свою копию вы сможете изменять и запускать.\n",
    "\n",
    "Не забудьте подключить GPU, чтобы сеть обучалась быстрее (Runtime -> Change Runtime Type -> Hardware Accelerator -> GPU)."
   ]
  },
  {
   "cell_type": "code",
   "execution_count": 2,
   "metadata": {
    "colab": {},
    "colab_type": "code",
    "id": "lpsyhVlJX5XH"
   },
   "outputs": [],
   "source": [
    "#%tensorflow_version 2.x\n",
    "from tensorflow.keras.datasets import imdb\n",
    "from tensorflow.keras.models import Sequential\n",
    "from tensorflow.keras.layers import Dense, Embedding, LSTM \n",
    "from tensorflow.keras import utils\n",
    "from tensorflow.keras.preprocessing.sequence import pad_sequences\n",
    "import numpy as np\n",
    "import matplotlib.pyplot as plt\n",
    "%matplotlib inline "
   ]
  },
  {
   "cell_type": "markdown",
   "metadata": {
    "colab_type": "text",
    "id": "xGDJkdINNWVh"
   },
   "source": [
    "## Загружаем данные"
   ]
  },
  {
   "cell_type": "code",
   "execution_count": 3,
   "metadata": {
    "colab": {},
    "colab_type": "code",
    "id": "kBUUyZ4cbxoM"
   },
   "outputs": [],
   "source": [
    "max_words=10000"
   ]
  },
  {
   "cell_type": "code",
   "execution_count": 4,
   "metadata": {
    "colab": {},
    "colab_type": "code",
    "id": "toRj2Xs1NZgB"
   },
   "outputs": [],
   "source": [
    "(x_train, y_train), (x_test, y_test) = imdb.load_data(num_words=max_words)"
   ]
  },
  {
   "cell_type": "markdown",
   "metadata": {
    "colab_type": "text",
    "id": "kiA7X0oWaS9Z"
   },
   "source": [
    "## Подготовка данных для обучения"
   ]
  },
  {
   "cell_type": "code",
   "execution_count": 5,
   "metadata": {
    "colab": {},
    "colab_type": "code",
    "id": "PiZZxRZhMVWv"
   },
   "outputs": [],
   "source": [
    "maxlen = 200"
   ]
  },
  {
   "cell_type": "code",
   "execution_count": 6,
   "metadata": {
    "colab": {},
    "colab_type": "code",
    "id": "0YrjnapvMVwf"
   },
   "outputs": [],
   "source": [
    "x_train = pad_sequences(x_train, maxlen=maxlen)\n",
    "x_test = pad_sequences(x_test, maxlen=maxlen)"
   ]
  },
  {
   "cell_type": "code",
   "execution_count": 7,
   "metadata": {
    "colab": {
     "base_uri": "https://localhost:8080/",
     "height": 343
    },
    "colab_type": "code",
    "id": "SnANlxwYMcNX",
    "outputId": "0de47709-f60c-4420-fe2c-f723a7169457"
   },
   "outputs": [
    {
     "data": {
      "text/plain": [
       "array([   0,    0,    0,    0,    0,    0,    0,    0,    0,    0,    0,\n",
       "          0,    0,    0,    0,    0,    0,    0,    0,    0,    0,    0,\n",
       "          0,    0,    0,    0,    0,    0,    0,    0,    0,    0,    0,\n",
       "          0,    0,    0,    0,    0,    0,    0,    0,    0,    0,    0,\n",
       "          0,    0,    0,    0,    0,    0,    0,    0,    0,    0,    0,\n",
       "          0,    0,    0,    0,    0,    0,    0,    0,    0,    0,    0,\n",
       "          0,    0,    0,    1,  103,   51,   13,  197,   16,    6, 4796,\n",
       "        239,    7,  107,  555,   11,  132,   39, 8921, 1872,  138,   16,\n",
       "       4093, 1768, 2959,   34, 1620,    2,   11,    4,  755,   12,   43,\n",
       "        286,    4,  172,  209,    2,    5, 5938,   17, 1000,   34, 1768,\n",
       "        279,   29, 3892,   89,  338,    4,  114,   16, 1240, 1747,  103,\n",
       "       3844, 3819,    8,  169, 2875,  112, 7062,   34,  160,  132,   29,\n",
       "        100,   24,  535,  101,  250,    8,  858,   15,  196,   19,   57,\n",
       "       3154,   39,   90,    5,   24,  169, 3533,   18,    6,  910,   20,\n",
       "         14, 1367, 3939, 1101,  935,    4,  545, 1744,  173,   54, 1240,\n",
       "       2875,    2,   56,  209,  112, 1021,   55,  835,  179,   35, 2384,\n",
       "          8,  529, 1663, 1793,    8, 1066,    7,   61,  223,  637, 1231,\n",
       "         19,    4,   86,   31,    5,  353,    8,  859,   13,  126,  219,\n",
       "          4,  755])"
      ]
     },
     "execution_count": 7,
     "metadata": {},
     "output_type": "execute_result"
    }
   ],
   "source": [
    "x_train[5002]"
   ]
  },
  {
   "cell_type": "markdown",
   "metadata": {
    "colab_type": "text",
    "id": "rhSLT9WjTeMk"
   },
   "source": [
    "## Создание нейронной сети"
   ]
  },
  {
   "cell_type": "code",
   "execution_count": 8,
   "metadata": {
    "colab": {},
    "colab_type": "code",
    "id": "Lrzx1e4xTgzL"
   },
   "outputs": [],
   "source": [
    "model = Sequential()\n",
    "model.add(Embedding(max_words, 8, input_length=maxlen))\n",
    "model.add(LSTM(32, recurrent_dropout = 0.2))\n",
    "model.add(Dense(1, activation='sigmoid'))"
   ]
  },
  {
   "cell_type": "code",
   "execution_count": 9,
   "metadata": {
    "colab": {},
    "colab_type": "code",
    "id": "u1yNam-uSunE"
   },
   "outputs": [],
   "source": [
    "model.compile(optimizer='adam', \n",
    "              loss='binary_crossentropy', \n",
    "              metrics=['accuracy'])"
   ]
  },
  {
   "cell_type": "markdown",
   "metadata": {
    "colab_type": "text",
    "id": "9CHZwMttYMTb"
   },
   "source": [
    "## Обучаем нейронную сеть"
   ]
  },
  {
   "cell_type": "code",
   "execution_count": 10,
   "metadata": {
    "colab": {
     "base_uri": "https://localhost:8080/",
     "height": 568
    },
    "colab_type": "code",
    "id": "AkmNH7ahYLyc",
    "outputId": "728d6db5-ca84-4b05-e2b9-cf7b8be4d605"
   },
   "outputs": [
    {
     "name": "stdout",
     "output_type": "stream",
     "text": [
      "Epoch 1/15\n",
      "176/176 [==============================] - 22s 128ms/step - loss: 0.5367 - accuracy: 0.7212 - val_loss: 0.3538 - val_accuracy: 0.8572\n",
      "Epoch 2/15\n",
      "176/176 [==============================] - 25s 144ms/step - loss: 0.2782 - accuracy: 0.8921 - val_loss: 0.3116 - val_accuracy: 0.8836\n",
      "Epoch 3/15\n",
      "176/176 [==============================] - 27s 152ms/step - loss: 0.2110 - accuracy: 0.9216 - val_loss: 0.2891 - val_accuracy: 0.8824\n",
      "Epoch 4/15\n",
      "176/176 [==============================] - 26s 145ms/step - loss: 0.1701 - accuracy: 0.9388 - val_loss: 0.3499 - val_accuracy: 0.8732\n",
      "Epoch 5/15\n",
      "176/176 [==============================] - 26s 146ms/step - loss: 0.1418 - accuracy: 0.9510 - val_loss: 0.3342 - val_accuracy: 0.8776\n",
      "Epoch 6/15\n",
      "176/176 [==============================] - 26s 146ms/step - loss: 0.1225 - accuracy: 0.9593 - val_loss: 0.4488 - val_accuracy: 0.8672\n",
      "Epoch 7/15\n",
      "176/176 [==============================] - 26s 148ms/step - loss: 0.1066 - accuracy: 0.9651 - val_loss: 0.4735 - val_accuracy: 0.8696\n",
      "Epoch 8/15\n",
      "176/176 [==============================] - 26s 150ms/step - loss: 0.0998 - accuracy: 0.9674 - val_loss: 0.4228 - val_accuracy: 0.8692\n",
      "Epoch 9/15\n",
      "176/176 [==============================] - 26s 148ms/step - loss: 0.0864 - accuracy: 0.9735 - val_loss: 0.5169 - val_accuracy: 0.8616\n",
      "Epoch 10/15\n",
      "176/176 [==============================] - 26s 150ms/step - loss: 0.0796 - accuracy: 0.9748 - val_loss: 0.4872 - val_accuracy: 0.8636\n",
      "Epoch 11/15\n",
      "176/176 [==============================] - 26s 148ms/step - loss: 0.0675 - accuracy: 0.9793 - val_loss: 0.4737 - val_accuracy: 0.8568\n",
      "Epoch 12/15\n",
      "176/176 [==============================] - 26s 148ms/step - loss: 0.0640 - accuracy: 0.9808 - val_loss: 0.6069 - val_accuracy: 0.8636\n",
      "Epoch 13/15\n",
      "176/176 [==============================] - 26s 148ms/step - loss: 0.0604 - accuracy: 0.9826 - val_loss: 0.6132 - val_accuracy: 0.8632\n",
      "Epoch 14/15\n",
      "176/176 [==============================] - 26s 148ms/step - loss: 0.0554 - accuracy: 0.9842 - val_loss: 0.8020 - val_accuracy: 0.8528\n",
      "Epoch 15/15\n",
      "176/176 [==============================] - 27s 153ms/step - loss: 0.0520 - accuracy: 0.9850 - val_loss: 0.5202 - val_accuracy: 0.8576\n"
     ]
    }
   ],
   "source": [
    "history = model.fit(x_train, \n",
    "                    y_train, \n",
    "                    epochs=15,\n",
    "                    batch_size=128,\n",
    "                    validation_split=0.1)"
   ]
  },
  {
   "cell_type": "code",
   "execution_count": 11,
   "metadata": {
    "colab": {
     "base_uri": "https://localhost:8080/",
     "height": 279
    },
    "colab_type": "code",
    "id": "a19UCeAMDhQK",
    "outputId": "91c3f8d9-681d-44c9-bd01-01a4291f34ec"
   },
   "outputs": [
    {
     "data": {
      "image/png": "[encoded data removed]",
      "text/plain": [
       "<Figure size 432x288 with 1 Axes>"
      ]
     },
     "metadata": {
      "needs_background": "light"
     },
     "output_type": "display_data"
    }
   ],
   "source": [
    "plt.plot(history.history['accuracy'], \n",
    "         label='Доля верных ответов на обучающем наборе')\n",
    "plt.plot(history.history['val_accuracy'], \n",
    "         label='Доля верных ответов на проверочном наборе')\n",
    "plt.xlabel('Эпоха обучения')\n",
    "plt.ylabel('Доля верных ответов')\n",
    "plt.legend()\n",
    "plt.show()"
   ]
  },
  {
   "cell_type": "markdown",
   "metadata": {
    "colab_type": "text",
    "id": "HnnIy3JlEGqW"
   },
   "source": [
    "## Проверяем работу сети на тестовом наборе данных"
   ]
  },
  {
   "cell_type": "code",
   "execution_count": 12,
   "metadata": {
    "colab": {
     "base_uri": "https://localhost:8080/",
     "height": 34
    },
    "colab_type": "code",
    "id": "J1_ilV14EKBO",
    "outputId": "fc6304e0-1813-49a2-b06d-5fbe529fcf00"
   },
   "outputs": [
    {
     "name": "stdout",
     "output_type": "stream",
     "text": [
      "782/782 [==============================] - 11s 14ms/step - loss: 0.5696 - accuracy: 0.8416\n"
     ]
    }
   ],
   "source": [
    "scores = model.evaluate(x_test, y_test, verbose=1)"
   ]
  },
  {
   "cell_type": "markdown",
   "metadata": {
    "colab_type": "text",
    "id": "ueXET5tXa-jB"
   },
   "source": [
    "## Архитектуры нейронных сетей для анализа текстов\n",
    "\n",
    "1. [Определение тональности отзывов на фильмы из базы IMDB с помощью простых рекуррентных нейросетей](https://colab.research.google.com/drive/19RAxAnIV0fDXAcE1T23TPkzi4ZPFQXdB).\n",
    "2. [Определение тональности отзывов на фильмы из базы IMDB с помощью сетей LSTM](https://colab.research.google.com/drive/1FQjetRIkWYxmm87JKUbVSJrRS2vNLPpV).\n",
    "3. [Определение тональности отзывов на фильмы из базы IMDB с помощью сетей GRU](https://colab.research.google.com/drive/1IGJPwFkTdpbyagQ5jiIRJBA01xlfc18t)."
   ]
  }
 ],
 "metadata": {
  "accelerator": "GPU",
  "colab": {
   "name": "dl_nlp_imdb_lstm.ipynb",
   "provenance": []
  },
  "kernelspec": {
   "display_name": "Python 3",
   "language": "python",
   "name": "python3"
  },
  "language_info": {
   "codemirror_mode": {
    "name": "ipython",
    "version": 3
   },
   "file_extension": ".py",
   "mimetype": "text/x-python",
   "name": "python",
   "nbconvert_exporter": "python",
   "pygments_lexer": "ipython3",
   "version": "3.7.3"
  }
 },
 "nbformat": 4,
 "nbformat_minor": 1
}
